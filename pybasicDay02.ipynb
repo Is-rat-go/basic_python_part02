{
  "nbformat": 4,
  "nbformat_minor": 0,
  "metadata": {
    "colab": {
      "provenance": [],
      "name": "pybasicDay02.ipynb",
      "authorship_tag": "ABX9TyMgImC45/BLPf9Ys94Gsv18",
      "include_colab_link": true
    },
    "kernelspec": {
      "name": "python3",
      "display_name": "Python 3"
    },
    "language_info": {
      "name": "python"
    }
  },
  "cells": [
    {
      "cell_type": "markdown",
      "metadata": {
        "id": "view-in-github",
        "colab_type": "text"
      },
      "source": [
        "<a href=\"https://colab.research.google.com/github/Is-rat-go/basic_python_part02/blob/main/pybasicDay02.ipynb\" target=\"_parent\"><img src=\"https://colab.research.google.com/assets/colab-badge.svg\" alt=\"Open In Colab\"/></a>"
      ]
    },
    {
      "cell_type": "code",
      "execution_count": 3,
      "metadata": {
        "id": "26ToIQk3PQn3",
        "colab": {
          "base_uri": "https://localhost:8080/"
        },
        "outputId": "c433e5a1-dd79-4412-ac7a-12c1efb6eb61"
      },
      "outputs": [
        {
          "output_type": "stream",
          "name": "stdout",
          "text": [
            "blue\n",
            "light is no more\n"
          ]
        }
      ],
      "source": [
        "#condition rule based code:\n",
        "traffic_light=input()\n",
        "if (traffic_light==\"yellow\"):\n",
        "  print(\"road is now in two conditions!\")\n",
        "elif(traffic_light==\"red\"):                 #here be aware to use strings double cotta also be aware about to write sequence by sequencly!!\n",
        "    print(\"road is busy now!\")\n",
        "elif(traffic_light==\"green\"):\n",
        "      print(\"normai to go!\")\n",
        "else:\n",
        "        print(\"light is no more\")"
      ]
    }
  ]
}